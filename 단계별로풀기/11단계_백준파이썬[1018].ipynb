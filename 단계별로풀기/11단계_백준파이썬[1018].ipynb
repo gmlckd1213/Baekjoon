{
 "cells": [
  {
   "cell_type": "code",
   "execution_count": 2,
   "id": "urban-doctrine",
   "metadata": {},
   "outputs": [
    {
     "name": "stdout",
     "output_type": "stream",
     "text": [
      "8 8\n",
      "WBWBWBWB\n",
      "BWBWBWBW\n",
      "WBWBWBWB\n",
      "BWBBBWBW\n",
      "WBWBWBWB\n",
      "BWBWBWBW\n",
      "WBWBWBWB\n",
      "BWBWBWBW\n",
      "1\n"
     ]
    }
   ],
   "source": [
    "n, m = map(int, input().split())\n",
    "m_list = []\n",
    "for _ in range(n):\n",
    "    m_list.append(input())\n",
    "n_min = 64\n",
    "\n",
    "for i in range(n - 7):\n",
    "    for j in range(m - 7):\n",
    "        cnt1 = 0\n",
    "        cnt2 = 0\n",
    "        for k in range(i, i + 8):\n",
    "            for s in range(j, j + 8):\n",
    "                if k % 2 == 0 and s % 2 == 0:\n",
    "                    if m_list[k][s] == 'B':\n",
    "                        cnt1 += 1\n",
    "                elif k % 2 == 1 and s % 2 == 1:\n",
    "                    if m_list[k][s] == 'B':\n",
    "                        cnt1 += 1\n",
    "                elif k % 2 == 0 and s % 2 == 1:\n",
    "                    if m_list[k][s] == 'W':\n",
    "                        cnt1 += 1\n",
    "                elif k % 2 == 1 and s % 2 == 0:\n",
    "                    if m_list[k][s] == 'W':\n",
    "                        cnt1 += 1\n",
    "        for k in range(i, i + 8):\n",
    "            for s in range(j, j + 8):\n",
    "                if k % 2 == 0 and s % 2 == 0:\n",
    "                    if m_list[k][s] == 'W':\n",
    "                        cnt2 += 1\n",
    "                elif k % 2 == 1 and s % 2 == 1:\n",
    "                    if m_list[k][s] == 'W':\n",
    "                        cnt2 += 1\n",
    "                elif k % 2 == 0 and s % 2 == 1:\n",
    "                    if m_list[k][s] == 'B':\n",
    "                        cnt2 += 1\n",
    "                elif k % 2 == 1 and s % 2 == 0:\n",
    "                    if m_list[k][s] == 'B':\n",
    "                        cnt2 += 1\n",
    "        n_min = min(n_min, cnt1, cnt2)\n",
    "print(n_min)"
   ]
  },
  {
   "cell_type": "code",
   "execution_count": 7,
   "id": "designed-tunnel",
   "metadata": {},
   "outputs": [
    {
     "name": "stdout",
     "output_type": "stream",
     "text": [
      "2 2\n",
      "BW\n",
      "WB\n"
     ]
    }
   ],
   "source": [
    "n,m=map(int,input().split())\n",
    "chess_pan=[]\n",
    "for i in range(n):\n",
    "    chess=input()\n",
    "    chess_pan.append(chess)\n",
    "\n",
    "cnt1=0\n",
    "if chess_pan[0][0]==\"B\":\n",
    "        for i in range(n):\n",
    "            for j in range(m):\n",
    "                if i%2==0 and j%2==0:\n",
    "                    if chess_pan[i][j]==\"B\":\n",
    "                        \n",
    "                \n",
    "       "
   ]
  },
  {
   "cell_type": "code",
   "execution_count": 8,
   "id": "economic-balance",
   "metadata": {},
   "outputs": [
    {
     "data": {
      "text/plain": [
       "'WB'"
      ]
     },
     "execution_count": 8,
     "metadata": {},
     "output_type": "execute_result"
    }
   ],
   "source": [
    "chess"
   ]
  },
  {
   "cell_type": "code",
   "execution_count": 9,
   "id": "stuck-nicaragua",
   "metadata": {},
   "outputs": [
    {
     "data": {
      "text/plain": [
       "['BW', 'WB']"
      ]
     },
     "execution_count": 9,
     "metadata": {},
     "output_type": "execute_result"
    }
   ],
   "source": [
    "chess_pan"
   ]
  },
  {
   "cell_type": "code",
   "execution_count": 10,
   "id": "eligible-devil",
   "metadata": {},
   "outputs": [
    {
     "data": {
      "text/plain": [
       "'B'"
      ]
     },
     "execution_count": 10,
     "metadata": {},
     "output_type": "execute_result"
    }
   ],
   "source": [
    "chess_pan[0][0]"
   ]
  },
  {
   "cell_type": "code",
   "execution_count": 2,
   "id": "orange-stereo",
   "metadata": {},
   "outputs": [
    {
     "ename": "SyntaxError",
     "evalue": "EOL while scanning string literal (<ipython-input-2-8364cbc244d1>, line 1)",
     "output_type": "error",
     "traceback": [
      "\u001b[0;36m  File \u001b[0;32m\"<ipython-input-2-8364cbc244d1>\"\u001b[0;36m, line \u001b[0;32m1\u001b[0m\n\u001b[0;31m    print(\"g)\u001b[0m\n\u001b[0m             ^\u001b[0m\n\u001b[0;31mSyntaxError\u001b[0m\u001b[0;31m:\u001b[0m EOL while scanning string literal\n"
     ]
    }
   ],
   "source": [
    "print(\"g)"
   ]
  },
  {
   "cell_type": "code",
   "execution_count": null,
   "id": "following-windsor",
   "metadata": {},
   "outputs": [],
   "source": []
  }
 ],
 "metadata": {
  "kernelspec": {
   "display_name": "Python 3",
   "language": "python",
   "name": "python3"
  },
  "language_info": {
   "codemirror_mode": {
    "name": "ipython",
    "version": 3
   },
   "file_extension": ".py",
   "mimetype": "text/x-python",
   "name": "python",
   "nbconvert_exporter": "python",
   "pygments_lexer": "ipython3",
   "version": "3.9.2"
  }
 },
 "nbformat": 4,
 "nbformat_minor": 5
}
