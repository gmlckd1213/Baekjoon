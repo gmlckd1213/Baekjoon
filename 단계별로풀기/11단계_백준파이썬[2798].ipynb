{
 "cells": [
  {
   "cell_type": "code",
   "execution_count": 1,
   "id": "patent-movement",
   "metadata": {},
   "outputs": [],
   "source": [
    "adad=[93,181,245,214,315,36,185,138,216,295]"
   ]
  },
  {
   "cell_type": "code",
   "execution_count": 3,
   "id": "addressed-madness",
   "metadata": {},
   "outputs": [
    {
     "data": {
      "text/plain": [
       "[36, 93, 138, 181, 185, 214, 216, 245, 295, 315]"
      ]
     },
     "execution_count": 3,
     "metadata": {},
     "output_type": "execute_result"
    }
   ],
   "source": [
    "adad.sort()\n",
    "adad"
   ]
  },
  {
   "cell_type": "code",
   "execution_count": 2,
   "id": "vocational-matthew",
   "metadata": {},
   "outputs": [],
   "source": [
    "adad.sort()"
   ]
  },
  {
   "cell_type": "code",
   "execution_count": 53,
   "id": "hispanic-houston",
   "metadata": {},
   "outputs": [
    {
     "name": "stdout",
     "output_type": "stream",
     "text": [
      "10 500\n",
      "93 181 245 214 315 36 185 138 216 295\n",
      "497\n"
     ]
    }
   ],
   "source": [
    "\n",
    "n,m=map(int,input().split())\n",
    "card=list(map(int,input().split()))\n",
    "if(n==len(card)):\n",
    "    sum=[]\n",
    "    \n",
    "    for i in range(n):\n",
    "        for j in range(i+1,n):\n",
    "            for k in range(j+1,n):\n",
    "                summ=(card[i]+card[j]+card[k])\n",
    "                if summ<=m:\n",
    "                    sum.append(summ)\n",
    "    print(max(sum))\n",
    "#      for i in range(len(sum_a)):\n",
    "#         od.append(int(m-(sum[i])))\n",
    "    \n",
    "#     od=[item for item in od if item>=0] 컴프리헨션 활용하기 \n",
    "#  list(set(list)) 중복제거\n",
    "#람다이용해서 선택제거 가능\n",
    "#     print(m-min(od))"
   ]
  },
  {
   "cell_type": "code",
   "execution_count": 6,
   "id": "tropical-climate",
   "metadata": {},
   "outputs": [
    {
     "name": "stdout",
     "output_type": "stream",
     "text": [
      "5 21\n",
      "5 6 7 8 9\n",
      "[]\n"
     ]
    }
   ],
   "source": [
    "n,m=map(int,input().split())\n",
    "card=list(map(int,input().split()))\n",
    "aco=[]\n",
    "for i in range(len(card)):\n",
    "    for j in card[i+1:]:\n",
    "        for t in card[j+1:]:\n",
    "            summ=i+j+t\n",
    "            if(summ<=m):\n",
    "                aco.append(summ)\n",
    "print(aco)\n",
    "                \n",
    "            "
   ]
  },
  {
   "cell_type": "code",
   "execution_count": 3,
   "id": "significant-floor",
   "metadata": {},
   "outputs": [
    {
     "name": "stdout",
     "output_type": "stream",
     "text": [
      "2\n",
      "3\n",
      "4\n"
     ]
    }
   ],
   "source": [
    "a=[1,2,3,4]\n",
    "for i in a[1:]:\n",
    "    print(i)"
   ]
  },
  {
   "cell_type": "code",
   "execution_count": 46,
   "id": "sonic-confusion",
   "metadata": {},
   "outputs": [
    {
     "data": {
      "text/plain": [
       "[36, 93, 138, 181, 185, 214, 216, 245, 295, 315]"
      ]
     },
     "execution_count": 46,
     "metadata": {},
     "output_type": "execute_result"
    }
   ],
   "source": [
    "lst=[93, 181, 245, 214, 315, 36, 185, 138, 216, 295,\n",
    "]\n",
    "lst.sort()\n",
    "lst"
   ]
  },
  {
   "cell_type": "code",
   "execution_count": null,
   "id": "smoking-component",
   "metadata": {},
   "outputs": [],
   "source": []
  }
 ],
 "metadata": {
  "kernelspec": {
   "display_name": "Python 3",
   "language": "python",
   "name": "python3"
  },
  "language_info": {
   "codemirror_mode": {
    "name": "ipython",
    "version": 3
   },
   "file_extension": ".py",
   "mimetype": "text/x-python",
   "name": "python",
   "nbconvert_exporter": "python",
   "pygments_lexer": "ipython3",
   "version": "3.9.2"
  }
 },
 "nbformat": 4,
 "nbformat_minor": 5
}
