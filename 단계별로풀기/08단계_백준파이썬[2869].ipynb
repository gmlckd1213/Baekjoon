{
 "cells": [
  {
   "cell_type": "code",
   "execution_count": 1,
   "id": "another-opposition",
   "metadata": {},
   "outputs": [],
   "source": [
    "#V미터 꼭대기를 올라갈 것임\n",
    "#낮엔 A미터 올라가고 밤에는 B미터 미끄러진다 정상에 올라간후에 미끄러지지않음\n",
    "#며칠이 걸리나?\n"
   ]
  },
  {
   "cell_type": "code",
   "execution_count": 1,
   "id": "wrapped-relaxation",
   "metadata": {},
   "outputs": [
    {
     "name": "stdout",
     "output_type": "stream",
     "text": [
      "2 1 5\n",
      "4\n"
     ]
    }
   ],
   "source": [
    "a,b,v=map(int,input().split())\n",
    "high=v-a\n",
    "if high%(a-b)==0:\n",
    "    first =int(high/(a-b))\n",
    "else:\n",
    "    first =int(high/(a-b)+1)\n",
    "print(first+1)"
   ]
  },
  {
   "cell_type": "code",
   "execution_count": null,
   "id": "expired-massage",
   "metadata": {},
   "outputs": [],
   "source": []
  },
  {
   "cell_type": "code",
   "execution_count": null,
   "id": "armed-basis",
   "metadata": {},
   "outputs": [],
   "source": []
  },
  {
   "cell_type": "code",
   "execution_count": null,
   "id": "amazing-stadium",
   "metadata": {},
   "outputs": [],
   "source": [
    "a,b,v=map(int,input().split())\n",
    "high=v-a\n",
    "if(high % (a-b)==0):\n",
    "    first=int(high/(a-b))\n",
    "else:\n",
    "    first=int()\n",
    "    "
   ]
  },
  {
   "cell_type": "code",
   "execution_count": 15,
   "id": "threatened-bidding",
   "metadata": {
    "scrolled": true
   },
   "outputs": [
    {
     "data": {
      "text/plain": [
       "5"
      ]
     },
     "execution_count": 15,
     "metadata": {},
     "output_type": "execute_result"
    }
   ],
   "source": [
    "ㅁ"
   ]
  },
  {
   "cell_type": "code",
   "execution_count": null,
   "id": "bored-draft",
   "metadata": {},
   "outputs": [],
   "source": [
    "d"
   ]
  }
 ],
 "metadata": {
  "kernelspec": {
   "display_name": "Python 3",
   "language": "python",
   "name": "python3"
  },
  "language_info": {
   "codemirror_mode": {
    "name": "ipython",
    "version": 3
   },
   "file_extension": ".py",
   "mimetype": "text/x-python",
   "name": "python",
   "nbconvert_exporter": "python",
   "pygments_lexer": "ipython3",
   "version": "3.9.2"
  }
 },
 "nbformat": 4,
 "nbformat_minor": 5
}
