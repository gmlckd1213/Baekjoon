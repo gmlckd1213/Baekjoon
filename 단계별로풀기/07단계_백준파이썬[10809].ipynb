{
 "cells": [
  {
   "cell_type": "code",
   "execution_count": 11,
   "id": "corporate-league",
   "metadata": {},
   "outputs": [
    {
     "name": "stdout",
     "output_type": "stream",
     "text": [
      "baekjoon\n",
      "1 0 -1 -1 2 -1 -1 -1 -1 4 3 -1 -1 7 5 -1 -1 -1 -1 -1 -1 -1 -1 -1 -1 -1 "
     ]
    }
   ],
   "source": [
    "strr=input()\n",
    "alpa=\"abcdefghijklmnopqrstuvwxyz\"\n",
    "for i in alpa:\n",
    "    if i in strr:\n",
    "        print(strr.index(i),end=\" \")\n",
    "    else:\n",
    "        print(\"-1\",end=\" \")"
   ]
  },
  {
   "cell_type": "code",
   "execution_count": 3,
   "id": "otherwise-croatia",
   "metadata": {},
   "outputs": [
    {
     "data": {
      "text/plain": [
       "str"
      ]
     },
     "execution_count": 3,
     "metadata": {},
     "output_type": "execute_result"
    }
   ],
   "source": [
    "type(alpa)"
   ]
  },
  {
   "cell_type": "code",
   "execution_count": 6,
   "id": "authentic-mother",
   "metadata": {},
   "outputs": [
    {
     "data": {
      "text/plain": [
       "0"
      ]
     },
     "execution_count": 6,
     "metadata": {},
     "output_type": "execute_result"
    }
   ],
   "source": [
    "alpa.index(\"a\")"
   ]
  },
  {
   "cell_type": "code",
   "execution_count": 37,
   "id": "technical-withdrawal",
   "metadata": {},
   "outputs": [
    {
     "name": "stdout",
     "output_type": "stream",
     "text": [
      "45\n"
     ]
    }
   ],
   "source": [
    "for i in range(N):\n",
    "    if i + table[i][0] <= N:\n",
    "        dp[i] = table[i][1]\n",
    "        for j in range(i):\n",
    "            if j + table[j][0] <= i:\n",
    "                dp[i] = max(dp[i], dp[j] + table[i][1])\n",
    "\n",
    "print(max(dp))\n"
   ]
  },
  {
   "cell_type": "code",
   "execution_count": 39,
   "id": "satellite-motivation",
   "metadata": {},
   "outputs": [
    {
     "data": {
      "text/plain": [
       "5"
      ]
     },
     "execution_count": 39,
     "metadata": {},
     "output_type": "execute_result"
    }
   ],
   "source": [
    "table[1][0]"
   ]
  },
  {
   "cell_type": "code",
   "execution_count": null,
   "id": "herbal-venice",
   "metadata": {},
   "outputs": [],
   "source": []
  }
 ],
 "metadata": {
  "kernelspec": {
   "display_name": "Python 3",
   "language": "python",
   "name": "python3"
  },
  "language_info": {
   "codemirror_mode": {
    "name": "ipython",
    "version": 3
   },
   "file_extension": ".py",
   "mimetype": "text/x-python",
   "name": "python",
   "nbconvert_exporter": "python",
   "pygments_lexer": "ipython3",
   "version": "3.9.2"
  }
 },
 "nbformat": 4,
 "nbformat_minor": 5
}
