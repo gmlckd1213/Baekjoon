{
 "cells": [
  {
   "cell_type": "code",
   "execution_count": 1,
   "id": "stylish-toilet",
   "metadata": {},
   "outputs": [
    {
     "name": "stdout",
     "output_type": "stream",
     "text": [
      "3\n",
      "0 0 13 40 0 37\n",
      "2\n",
      "0 0 3 0 7 4\n",
      "1\n",
      "1 1 1 1 1 5\n",
      "0\n"
     ]
    }
   ],
   "source": [
    "import math\n",
    "t=int(input())\n",
    "for i in range(t):\n",
    "    x_1,y_1,r_1,x_2,y_2,r_2=map(int,input().split())\n",
    "    d=math.sqrt((x_1-x_2)**2+(y_1-y_2)**2)\n",
    "    if d==0 and r_1==r_2:\n",
    "        print(\"-1\")\n",
    "    elif(d == r_1+r_2 or abs(r_1-r_2)==d):\n",
    "        print(\"1\")\n",
    "    elif(abs(r_1-r_2)<d < r_1+r_2):\n",
    "        print(\"2\")\n",
    "    else:\n",
    "        print(\"0\")"
   ]
  },
  {
   "cell_type": "code",
   "execution_count": null,
   "id": "agreed-lobby",
   "metadata": {},
   "outputs": [],
   "source": [
    "import math\n",
    "t=int(input())\n",
    "for i i\n",
    "    elif"
   ]
  },
  {
   "cell_type": "code",
   "execution_count": null,
   "id": "moving-luxembourg",
   "metadata": {},
   "outputs": [],
   "source": []
  },
  {
   "cell_type": "code",
   "execution_count": null,
   "id": "colored-frank",
   "metadata": {},
   "outputs": [],
   "source": []
  },
  {
   "cell_type": "code",
   "execution_count": null,
   "id": "artificial-stanford",
   "metadata": {},
   "outputs": [],
   "source": []
  },
  {
   "cell_type": "code",
   "execution_count": 2,
   "id": "right-benjamin",
   "metadata": {},
   "outputs": [
    {
     "data": {
      "text/plain": [
       "40"
      ]
     },
     "execution_count": 2,
     "metadata": {},
     "output_type": "execute_result"
    }
   ],
   "source": [
    "d"
   ]
  },
  {
   "cell_type": "code",
   "execution_count": null,
   "id": "working-omega",
   "metadata": {},
   "outputs": [],
   "source": []
  }
 ],
 "metadata": {
  "kernelspec": {
   "display_name": "Python 3",
   "language": "python",
   "name": "python3"
  },
  "language_info": {
   "codemirror_mode": {
    "name": "ipython",
    "version": 3
   },
   "file_extension": ".py",
   "mimetype": "text/x-python",
   "name": "python",
   "nbconvert_exporter": "python",
   "pygments_lexer": "ipython3",
   "version": "3.9.2"
  }
 },
 "nbformat": 4,
 "nbformat_minor": 5
}
