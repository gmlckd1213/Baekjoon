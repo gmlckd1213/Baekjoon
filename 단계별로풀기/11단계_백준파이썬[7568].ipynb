{
 "cells": [
  {
   "cell_type": "code",
   "execution_count": 33,
   "id": "exceptional-appeal",
   "metadata": {},
   "outputs": [
    {
     "name": "stdout",
     "output_type": "stream",
     "text": [
      "5\n",
      "55 185\n",
      "58 183\n",
      "88 186\n",
      "60 175\n",
      "46 155\n",
      "2  \n",
      "2  \n",
      "1  \n",
      "2  \n",
      "5  \n"
     ]
    }
   ],
   "source": [
    "n=int(input())\n",
    "student=[]\n",
    "for i in range(n):\n",
    "    a,b=map(int,input().split())\n",
    "    student.append((a,b))\n",
    "r=[]\n",
    "for i in student:\n",
    "    rank=1\n",
    "    for j in student:\n",
    "        if i[0]<j[0] and i[1]<j[1]:\n",
    "            rank+=1\n",
    "    print(rank,end=\" \")"
   ]
  },
  {
   "cell_type": "code",
   "execution_count": 32,
   "id": "bizarre-welcome",
   "metadata": {},
   "outputs": [
    {
     "name": "stdout",
     "output_type": "stream",
     "text": [
      "2\n",
      "2\n",
      "1\n",
      "2\n",
      "5\n"
     ]
    }
   ],
   "source": [
    "n==int(input())\n",
    "s=[]\n",
    "for i in range(n):\n",
    "    a,b=list(map(int,input().split()))\n",
    "    s.append((a,b))\n",
    "for i in s:\n",
    "    rank=1\n",
    "    for j in s:\n",
    "        if"
   ]
  },
  {
   "cell_type": "code",
   "execution_count": 14,
   "id": "aggregate-maximum",
   "metadata": {},
   "outputs": [
    {
     "name": "stdout",
     "output_type": "stream",
     "text": [
      "5\n",
      "55 185\n",
      "58 183\n",
      "88 186\n",
      "60 175\n",
      "46 155\n",
      "2\n",
      "2\n",
      "1\n",
      "2\n",
      "5\n"
     ]
    }
   ],
   "source": [
    "t=int(input())\n",
    "info=[]\n",
    "for i in range(t):\n",
    "    a,b=map(int,input().split())\n",
    "    info.append((a,b))\n",
    "for i in range(t):\n",
    "    rank=1\n",
    "    for j in range(t):\n",
    "        if info[i][0]<info[j][0] and info[i][1]<info[j][1]:\n",
    "            rank+=1\n",
    "    print(rank)"
   ]
  },
  {
   "cell_type": "code",
   "execution_count": 13,
   "id": "significant-distinction",
   "metadata": {},
   "outputs": [
    {
     "name": "stdout",
     "output_type": "stream",
     "text": [
      "2\n",
      "2\n",
      "1\n",
      "2\n",
      "5\n"
     ]
    }
   ],
   "source": [
    "for i in range(t):\n",
    "    rank=1\n",
    "    for j in range(t):\n",
    "        if info[i][0]<info[j][0] and info[i][1]<info[j][1]:\n",
    "            rank+=1\n",
    "    print(rank)"
   ]
  },
  {
   "cell_type": "code",
   "execution_count": 11,
   "id": "assumed-paraguay",
   "metadata": {},
   "outputs": [
    {
     "data": {
      "text/plain": [
       "False"
      ]
     },
     "execution_count": 11,
     "metadata": {},
     "output_type": "execute_result"
    }
   ],
   "source": [
    "info[1]>info[3]"
   ]
  },
  {
   "cell_type": "code",
   "execution_count": null,
   "id": "retired-smart",
   "metadata": {},
   "outputs": [],
   "source": []
  }
 ],
 "metadata": {
  "kernelspec": {
   "display_name": "Python 3",
   "language": "python",
   "name": "python3"
  },
  "language_info": {
   "codemirror_mode": {
    "name": "ipython",
    "version": 3
   },
   "file_extension": ".py",
   "mimetype": "text/x-python",
   "name": "python",
   "nbconvert_exporter": "python",
   "pygments_lexer": "ipython3",
   "version": "3.9.2"
  }
 },
 "nbformat": 4,
 "nbformat_minor": 5
}
