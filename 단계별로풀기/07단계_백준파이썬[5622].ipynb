{
 "cells": [
  {
   "cell_type": "code",
   "execution_count": 16,
   "id": "mounted-writer",
   "metadata": {},
   "outputs": [
    {
     "name": "stdout",
     "output_type": "stream",
     "text": [
      "unucic\n",
      "36\n"
     ]
    }
   ],
   "source": [
    "Dial=['ABC','DEF','GHI','JKL','MNO','PQRS','TUV','WXYZ']#dial 정의\n",
    "num=0#최소시간 구하기\n",
    "a=input().upper()#대문자입력받기\n",
    "for i in range(len(a)):#a의개수만큼 for문\n",
    "    for j in Dial:#리스트 for문\n",
    "        if a[i] in j:#a의 i번째 값이 j에 포함되면\n",
    "            num += Dial.index(j)+3#그다이얼의 인덱스값 +3 \n",
    "print(num)"
   ]
  },
  {
   "cell_type": "code",
   "execution_count": null,
   "id": "immediate-parade",
   "metadata": {},
   "outputs": [],
   "source": []
  }
 ],
 "metadata": {
  "kernelspec": {
   "display_name": "Python 3",
   "language": "python",
   "name": "python3"
  },
  "language_info": {
   "codemirror_mode": {
    "name": "ipython",
    "version": 3
   },
   "file_extension": ".py",
   "mimetype": "text/x-python",
   "name": "python",
   "nbconvert_exporter": "python",
   "pygments_lexer": "ipython3",
   "version": "3.9.2"
  }
 },
 "nbformat": 4,
 "nbformat_minor": 5
}
