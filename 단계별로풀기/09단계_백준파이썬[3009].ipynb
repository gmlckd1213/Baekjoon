{
 "cells": [
  {
   "cell_type": "code",
   "execution_count": 9,
   "id": "assured-breach",
   "metadata": {},
   "outputs": [
    {
     "name": "stdout",
     "output_type": "stream",
     "text": [
      "30 20\n",
      "10 10\n",
      "10 20\n",
      "30 10\n"
     ]
    }
   ],
   "source": [
    "x1,y1=map(int,input().split())\n",
    "x2,y2=map(int,input().split())\n",
    "x3,y3=map(int,input().split())\n",
    "if x1==x2:\n",
    "    x4=x3\n",
    "elif x1==x3:\n",
    "    x4=x2\n",
    "else: x4=x1\n",
    "\n",
    "if y1==y2:\n",
    "        y4=y3\n",
    "elif y1==y3:\n",
    "        y4=y2\n",
    "else:\n",
    "        y4=y1\n",
    "print(x4,y4)"
   ]
  },
  {
   "cell_type": "code",
   "execution_count": 4,
   "id": "strategic-mobility",
   "metadata": {},
   "outputs": [
    {
     "data": {
      "text/plain": [
       "10.0"
      ]
     },
     "execution_count": 4,
     "metadata": {},
     "output_type": "execute_result"
    }
   ],
   "source": [
    "d3"
   ]
  },
  {
   "cell_type": "code",
   "execution_count": null,
   "id": "periodic-persian",
   "metadata": {},
   "outputs": [],
   "source": []
  }
 ],
 "metadata": {
  "kernelspec": {
   "display_name": "Python 3",
   "language": "python",
   "name": "python3"
  },
  "language_info": {
   "codemirror_mode": {
    "name": "ipython",
    "version": 3
   },
   "file_extension": ".py",
   "mimetype": "text/x-python",
   "name": "python",
   "nbconvert_exporter": "python",
   "pygments_lexer": "ipython3",
   "version": "3.9.2"
  }
 },
 "nbformat": 4,
 "nbformat_minor": 5
}
