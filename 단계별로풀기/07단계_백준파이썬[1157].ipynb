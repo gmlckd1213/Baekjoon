{
 "cells": [
  {
   "cell_type": "code",
   "execution_count": 12,
   "id": "vocational-moscow",
   "metadata": {},
   "outputs": [
    {
     "name": "stdout",
     "output_type": "stream",
     "text": [
      "MIASD\n",
      "?\n"
     ]
    }
   ],
   "source": [
    "S=input().upper()\n",
    "S_list=list(set(S))#set의 특징으로 자료형의 중복제거를위해 종종쓰임\n",
    "                    # 리스트나 튜플은 순서가 있어 인덱싱을통해 값을 얻을수있지만\n",
    "                    # set자료형은 순서가 없어서 인덱싱으로 값을 얻을 수 없다. 인덱싱 지원x\n",
    "cnt=[]#몇개쓰이는 리스트 생성\n",
    "\n",
    "for i in S_list:\n",
    "    count=S.count(i)#count함수는 리스트안에 몇개가 들어있는지 세어주는 함수\n",
    "    cnt.append(count)\n",
    "if cnt.count(max(cnt)) >= 2:\n",
    "    print(\"?\")\n",
    "else:\n",
    "    print(S_list[cnt.index(max(cnt))].upper())"
   ]
  },
  {
   "cell_type": "code",
   "execution_count": 10,
   "id": "guilty-injection",
   "metadata": {
    "scrolled": true
   },
   "outputs": [
    {
     "data": {
      "text/plain": [
       "'MISI'"
      ]
     },
     "execution_count": 10,
     "metadata": {},
     "output_type": "execute_result"
    }
   ],
   "source": []
  },
  {
   "cell_type": "code",
   "execution_count": null,
   "id": "dental-demonstration",
   "metadata": {},
   "outputs": [],
   "source": []
  }
 ],
 "metadata": {
  "kernelspec": {
   "display_name": "Python 3",
   "language": "python",
   "name": "python3"
  },
  "language_info": {
   "codemirror_mode": {
    "name": "ipython",
    "version": 3
   },
   "file_extension": ".py",
   "mimetype": "text/x-python",
   "name": "python",
   "nbconvert_exporter": "python",
   "pygments_lexer": "ipython3",
   "version": "3.9.2"
  }
 },
 "nbformat": 4,
 "nbformat_minor": 5
}
