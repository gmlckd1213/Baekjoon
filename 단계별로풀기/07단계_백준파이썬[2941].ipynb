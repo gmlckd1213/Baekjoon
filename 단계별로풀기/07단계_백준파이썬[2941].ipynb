{
 "cells": [
  {
   "cell_type": "code",
   "execution_count": 1,
   "id": "narrative-contamination",
   "metadata": {
    "scrolled": true
   },
   "outputs": [
    {
     "name": "stdout",
     "output_type": "stream",
     "text": [
      "ljes=njak\n",
      "6\n",
      "*e**ak\n"
     ]
    }
   ],
   "source": [
    "cro=['c=','c-','dz=','d-','lj','nj','s=','z=']\n",
    "a=input()#입력\n",
    "for t in cro:#크로아티아문자 for문\n",
    "    a=a.replace(t,\"*\")#입력받은문제아 크로아티아 문자가있으면 *문자로 대체\n",
    "print(len(a))#초기화된 a의 길이\n",
    "print(a)\n",
    "\n",
    "        \n",
    "\n",
    "        "
   ]
  },
  {
   "cell_type": "code",
   "execution_count": null,
   "id": "tired-voltage",
   "metadata": {},
   "outputs": [],
   "source": []
  }
 ],
 "metadata": {
  "kernelspec": {
   "display_name": "Python 3",
   "language": "python",
   "name": "python3"
  },
  "language_info": {
   "codemirror_mode": {
    "name": "ipython",
    "version": 3
   },
   "file_extension": ".py",
   "mimetype": "text/x-python",
   "name": "python",
   "nbconvert_exporter": "python",
   "pygments_lexer": "ipython3",
   "version": "3.9.2"
  }
 },
 "nbformat": 4,
 "nbformat_minor": 5
}
