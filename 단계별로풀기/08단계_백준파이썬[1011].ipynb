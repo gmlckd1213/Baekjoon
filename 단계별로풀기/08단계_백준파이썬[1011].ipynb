{
 "cells": [
  {
   "cell_type": "code",
   "execution_count": null,
   "id": "imperial-bangkok",
   "metadata": {},
   "outputs": [
    {
     "name": "stdout",
     "output_type": "stream",
     "text": [
      "3\n",
      "2 6\n",
      "3\n",
      "3 13\n",
      "5\n"
     ]
    }
   ],
   "source": [
    "t = int(input())\n",
    "\n",
    "for _ in range(t):\n",
    "    x, y = map(int,input().split())\n",
    "    distance = y - x\n",
    "    count = 0  # 이동 횟수\n",
    "    move = 1  # count별 이동 가능한 거리\n",
    "    move_plus = 0  # 이동한 거리의 합\n",
    "    while move_plus < distance :\n",
    "        count += 1\n",
    "        move_plus += move  # count 수에 해당하는 move를 더함\n",
    "        if count % 2 == 0 :  # count가 2의 배수일 때, \n",
    "            move += 1  \n",
    "    print(count)"
   ]
  },
  {
   "cell_type": "code",
   "execution_count": 11,
   "id": "transparent-palace",
   "metadata": {},
   "outputs": [],
   "source": [
    "#1 2 3 4 5\n",
    "#45 46 47 48 49 50 51 52\n",
    "a=[]\n",
    "for i in range(0,4):\n",
    "    a.append(i)"
   ]
  },
  {
   "cell_type": "code",
   "execution_count": 12,
   "id": "adverse-nothing",
   "metadata": {},
   "outputs": [
    {
     "data": {
      "text/plain": [
       "[0, 1, 2, 3]"
      ]
     },
     "execution_count": 12,
     "metadata": {},
     "output_type": "execute_result"
    }
   ],
   "source": [
    "for(jj):"
   ]
  },
  {
   "cell_type": "code",
   "execution_count": null,
   "id": "atomic-creation",
   "metadata": {},
   "outputs": [],
   "source": []
  }
 ],
 "metadata": {
  "kernelspec": {
   "display_name": "Python 3",
   "language": "python",
   "name": "python3"
  },
  "language_info": {
   "codemirror_mode": {
    "name": "ipython",
    "version": 3
   },
   "file_extension": ".py",
   "mimetype": "text/x-python",
   "name": "python",
   "nbconvert_exporter": "python",
   "pygments_lexer": "ipython3",
   "version": "3.9.2"
  }
 },
 "nbformat": 4,
 "nbformat_minor": 5
}
