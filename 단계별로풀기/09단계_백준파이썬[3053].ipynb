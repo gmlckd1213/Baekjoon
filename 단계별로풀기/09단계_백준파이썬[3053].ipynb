{
 "cells": [
  {
   "cell_type": "code",
   "execution_count": 2,
   "id": "velvet-toolbox",
   "metadata": {},
   "outputs": [
    {
     "name": "stdout",
     "output_type": "stream",
     "text": [
      "21\n",
      "1385.4423602330987\n",
      "882\n"
     ]
    }
   ],
   "source": [
    "import math\n",
    "\n",
    "r = int(input())\n",
    "print(r*r*math.pi)  \n",
    "print(2*r*r) "
   ]
  },
  {
   "cell_type": "code",
   "execution_count": null,
   "id": "blessed-pencil",
   "metadata": {},
   "outputs": [],
   "source": []
  }
 ],
 "metadata": {
  "kernelspec": {
   "display_name": "Python 3",
   "language": "python",
   "name": "python3"
  },
  "language_info": {
   "codemirror_mode": {
    "name": "ipython",
    "version": 3
   },
   "file_extension": ".py",
   "mimetype": "text/x-python",
   "name": "python",
   "nbconvert_exporter": "python",
   "pygments_lexer": "ipython3",
   "version": "3.9.2"
  }
 },
 "nbformat": 4,
 "nbformat_minor": 5
}
