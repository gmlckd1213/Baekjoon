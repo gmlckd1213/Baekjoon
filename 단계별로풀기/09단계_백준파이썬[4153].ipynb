{
 "cells": [
  {
   "cell_type": "code",
   "execution_count": null,
   "id": "reasonable-pricing",
   "metadata": {},
   "outputs": [
    {
     "name": "stdout",
     "output_type": "stream",
     "text": [
      "5 12 13\n",
      "right\n"
     ]
    }
   ],
   "source": [
    "while(True):\n",
    "    a = list(map(int,input().split()))\n",
    "    a.sort()\n",
    "    if sum(a)==0:\n",
    "        break\n",
    "    if a[0]**2+a[1]**2==a[2]**2:\n",
    "        print(\"right\")\n",
    "        \n",
    "    else:\n",
    "        print(\"wrong\")\n",
    "   "
   ]
  },
  {
   "cell_type": "code",
   "execution_count": 8,
   "id": "accompanied-presentation",
   "metadata": {},
   "outputs": [],
   "source": [
    "lis=[3,6,5,8]"
   ]
  },
  {
   "cell_type": "code",
   "execution_count": 10,
   "id": "consolidated-comment",
   "metadata": {},
   "outputs": [],
   "source": [
    "lis.sort()"
   ]
  },
  {
   "cell_type": "code",
   "execution_count": 11,
   "id": "available-static",
   "metadata": {},
   "outputs": [
    {
     "data": {
      "text/plain": [
       "[3, 5, 6, 8]"
      ]
     },
     "execution_count": 11,
     "metadata": {},
     "output_type": "execute_result"
    }
   ],
   "source": [
    "lis"
   ]
  },
  {
   "cell_type": "code",
   "execution_count": 2,
   "id": "artificial-summer",
   "metadata": {},
   "outputs": [
    {
     "name": "stdout",
     "output_type": "stream",
     "text": [
      "6 8 10\n",
      "right\n",
      "25 52 60\n",
      "wrong\n",
      "5 12 13\n",
      "right\n",
      "0 0 0\n"
     ]
    }
   ],
   "source": [
    "while(True):\n",
    "    a,b,c=map(int,input().split())\n",
    "    if(a==0 and b==0 and c==0):\n",
    "        break\n",
    "    a_list=[a,b,c]\n",
    "    a_list.sort()\n",
    "    if(a_list[0]**2+a_list[1]**2==a_list[2]**2):\n",
    "        print(\"right\")\n",
    "    else:\n",
    "        print(\"wrong\")\n",
    "    \n",
    "    \n",
    "    "
   ]
  },
  {
   "cell_type": "code",
   "execution_count": null,
   "id": "hollywood-hunter",
   "metadata": {},
   "outputs": [],
   "source": []
  }
 ],
 "metadata": {
  "kernelspec": {
   "display_name": "Python 3",
   "language": "python",
   "name": "python3"
  },
  "language_info": {
   "codemirror_mode": {
    "name": "ipython",
    "version": 3
   },
   "file_extension": ".py",
   "mimetype": "text/x-python",
   "name": "python",
   "nbconvert_exporter": "python",
   "pygments_lexer": "ipython3",
   "version": "3.9.2"
  }
 },
 "nbformat": 4,
 "nbformat_minor": 5
}
