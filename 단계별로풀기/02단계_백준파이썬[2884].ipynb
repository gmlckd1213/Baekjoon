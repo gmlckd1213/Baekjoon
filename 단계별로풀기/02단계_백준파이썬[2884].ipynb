{
 "cells": [
  {
   "cell_type": "code",
   "execution_count": 1,
   "id": "offensive-livestock",
   "metadata": {},
   "outputs": [
    {
     "name": "stdout",
     "output_type": "stream",
     "text": [
      "10 10\n"
     ]
    }
   ],
   "source": [
    "a,b=map(int,input().split())"
   ]
  },
  {
   "cell_type": "code",
   "execution_count": 3,
   "id": "civilian-distribution",
   "metadata": {},
   "outputs": [
    {
     "name": "stdout",
     "output_type": "stream",
     "text": [
      "10 10\n",
      "9 25\n"
     ]
    }
   ],
   "source": [
    "a,b=map(int,input().split())\n",
    "if(b<45 and a>0):\n",
    "    print(a-1,b+15)\n",
    "elif(b>44):\n",
    "    print(a,b-45)\n",
    "else:\n",
    "    print(23,b+15)"
   ]
  },
  {
   "cell_type": "code",
   "execution_count": null,
   "id": "after-progress",
   "metadata": {},
   "outputs": [],
   "source": []
  }
 ],
 "metadata": {
  "kernelspec": {
   "display_name": "Python 3",
   "language": "python",
   "name": "python3"
  },
  "language_info": {
   "codemirror_mode": {
    "name": "ipython",
    "version": 3
   },
   "file_extension": ".py",
   "mimetype": "text/x-python",
   "name": "python",
   "nbconvert_exporter": "python",
   "pygments_lexer": "ipython3",
   "version": "3.9.2"
  }
 },
 "nbformat": 4,
 "nbformat_minor": 5
}
