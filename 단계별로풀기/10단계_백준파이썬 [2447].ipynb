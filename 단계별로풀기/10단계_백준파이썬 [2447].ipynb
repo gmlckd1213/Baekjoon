{
 "cells": [
  {
   "cell_type": "code",
   "execution_count": 32,
   "id": "joined-scene",
   "metadata": {},
   "outputs": [
    {
     "name": "stdout",
     "output_type": "stream",
     "text": [
      "27\n",
      "***************************\n",
      "* ** ** ** ** ** ** ** ** *\n",
      "***************************\n",
      "***   ******   ******   ***\n",
      "* *   * ** *   * ** *   * *\n",
      "***   ******   ******   ***\n",
      "***************************\n",
      "* ** ** ** ** ** ** ** ** *\n",
      "***************************\n",
      "*********         *********\n",
      "* ** ** *         * ** ** *\n",
      "*********         *********\n",
      "***   ***         ***   ***\n",
      "* *   * *         * *   * *\n",
      "***   ***         ***   ***\n",
      "*********         *********\n",
      "* ** ** *         * ** ** *\n",
      "*********         *********\n",
      "***************************\n",
      "* ** ** ** ** ** ** ** ** *\n",
      "***************************\n",
      "***   ******   ******   ***\n",
      "* *   * ** *   * ** *   * *\n",
      "***   ******   ******   ***\n",
      "***************************\n",
      "* ** ** ** ** ** ** ** ** *\n",
      "***************************\n"
     ]
    }
   ],
   "source": [
    "import sys\n",
    "\n",
    "num = int(input())\n",
    "\n",
    "def star(i, j):\n",
    "    while(i != 0):\n",
    "      \n",
    "        if(i % 3 == 1 and j % 3 == 1):\n",
    "            sys.stdout.write(' ')\n",
    "            return None\n",
    "       \n",
    "        i = i // 3\n",
    "        j = j // 3\n",
    "    sys.stdout.write('*')\n",
    "\n",
    "for i in range(num):\n",
    "    for j in range(num):\n",
    "            star(i, j)\n",
    "    sys.stdout.write('\\n')\n"
   ]
  },
  {
   "cell_type": "markdown",
   "id": "accessible-prescription",
   "metadata": {},
   "source": [
    "## import sys\n",
    "\n",
    "num = int(input())\n",
    "\n",
    "def star(i, j):\n",
    "    while(i != 0):\n",
    "        # 몫이 1인 경우\n",
    "        if(i % 3 == 1 and j % 3 == 1):\n",
    "            sys.stdout.write(' ')\n",
    "            return None\n",
    "        # 3으로 나누어서 위의 if문에 걸리면 그 부분도 빈칸 처리\n",
    "        i = i // 3\n",
    "        j = j // 3\n",
    "    sys.stdout.write('*')\n",
    "\n",
    "for i in range(num):\n",
    "    for j in range(num):\n",
    "            star(i, j)\n",
    "    sys.stdout.write('\\n')"
   ]
  },
  {
   "cell_type": "code",
   "execution_count": 19,
   "id": "fresh-triple",
   "metadata": {},
   "outputs": [
    {
     "name": "stdout",
     "output_type": "stream",
     "text": [
      "321\n"
     ]
    }
   ],
   "source": [
    "a=3\n",
    "b=2\n",
    "c=1\n",
    "print(a,b,c,sep=\"\")"
   ]
  },
  {
   "cell_type": "code",
   "execution_count": 24,
   "id": "fitting-atlanta",
   "metadata": {},
   "outputs": [
    {
     "name": "stdout",
     "output_type": "stream",
     "text": [
      "*****"
     ]
    }
   ],
   "source": [
    "import sys\n",
    "for i in range(5):\n",
    "    sys.stdout.write(\"*\")"
   ]
  },
  {
   "cell_type": "code",
   "execution_count": null,
   "id": "backed-elimination",
   "metadata": {},
   "outputs": [],
   "source": []
  }
 ],
 "metadata": {
  "kernelspec": {
   "display_name": "Python 3",
   "language": "python",
   "name": "python3"
  },
  "language_info": {
   "codemirror_mode": {
    "name": "ipython",
    "version": 3
   },
   "file_extension": ".py",
   "mimetype": "text/x-python",
   "name": "python",
   "nbconvert_exporter": "python",
   "pygments_lexer": "ipython3",
   "version": "3.9.2"
  }
 },
 "nbformat": 4,
 "nbformat_minor": 5
}
