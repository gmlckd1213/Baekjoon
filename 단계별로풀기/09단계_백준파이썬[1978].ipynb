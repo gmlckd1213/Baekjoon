{
 "cells": [
  {
   "cell_type": "code",
   "execution_count": 40,
   "id": "exceptional-official",
   "metadata": {},
   "outputs": [
    {
     "name": "stdout",
     "output_type": "stream",
     "text": [
      "4\n",
      "2 3 5 8\n",
      "3\n"
     ]
    }
   ],
   "source": [
    "n=int(input())\n",
    "an=list(map(int,input().split()))#리스트 값 추가하기+스플릿을반드시붙여야함\n",
    "\n",
    "count=0\n",
    "if len(an) == n:#처음입력받은 n과\n",
    "    for i in an:\n",
    "        sosu=0\n",
    "        for j in range(1,i+1):\n",
    "            if i%j==0:\n",
    "                sosu+=1\n",
    "        if sosu == 2:\n",
    "            count+=1\n",
    "print(count)\n",
    "\n"
   ]
  },
  {
   "cell_type": "code",
   "execution_count": 3,
   "id": "valid-maldives",
   "metadata": {},
   "outputs": [
    {
     "data": {
      "text/plain": [
       "[1, 3, 5, 6]"
      ]
     },
     "execution_count": 3,
     "metadata": {},
     "output_type": "execute_result"
    }
   ],
   "source": [
    "t=int(input())\n",
    "a=list(map(int,input().split()))\n",
    "n=0\n",
    "for i in a:\n",
    "    sosu=0\n",
    "    for j in range(2,i+1):\n",
    "        if i%j == 0:\n",
    "            sosu += 1\n",
    "    if sosu==1:\n",
    "        n+=1\n",
    "print(n)"
   ]
  },
  {
   "cell_type": "code",
   "execution_count": null,
   "id": "lonely-photography",
   "metadata": {},
   "outputs": [],
   "source": []
  }
 ],
 "metadata": {
  "kernelspec": {
   "display_name": "Python 3",
   "language": "python",
   "name": "python3"
  },
  "language_info": {
   "codemirror_mode": {
    "name": "ipython",
    "version": 3
   },
   "file_extension": ".py",
   "mimetype": "text/x-python",
   "name": "python",
   "nbconvert_exporter": "python",
   "pygments_lexer": "ipython3",
   "version": "3.9.2"
  }
 },
 "nbformat": 4,
 "nbformat_minor": 5
}
