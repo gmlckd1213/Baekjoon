{
 "cells": [
  {
   "cell_type": "code",
   "execution_count": null,
   "id": "micro-chicago",
   "metadata": {},
   "outputs": [
    {
     "name": "stdout",
     "output_type": "stream",
     "text": [
      "2\n",
      "6 12 10\n",
      "402\n"
     ]
    }
   ],
   "source": [
    "\n",
    "\n",
    "for _ in range(int(input())):\n",
    "    h,w,n=map(int,input().split())\n",
    "    floor=(n%h)\n",
    "    hosu=(n//h+1)\n",
    "    if floor==0:\n",
    "        hosu=n//h\n",
    "        floor=h\n",
    "    print(floor*100+hosu)\n",
    "    "
   ]
  },
  {
   "cell_type": "code",
   "execution_count": 3,
   "id": "acute-military",
   "metadata": {},
   "outputs": [
    {
     "data": {
      "text/plain": [
       "int"
      ]
     },
     "execution_count": 3,
     "metadata": {},
     "output_type": "execute_result"
    }
   ],
   "source": [
    "type(floor)"
   ]
  },
  {
   "cell_type": "code",
   "execution_count": null,
   "id": "mysterious-partner",
   "metadata": {},
   "outputs": [],
   "source": [
    "for _ in range()"
   ]
  }
 ],
 "metadata": {
  "kernelspec": {
   "display_name": "Python 3",
   "language": "python",
   "name": "python3"
  },
  "language_info": {
   "codemirror_mode": {
    "name": "ipython",
    "version": 3
   },
   "file_extension": ".py",
   "mimetype": "text/x-python",
   "name": "python",
   "nbconvert_exporter": "python",
   "pygments_lexer": "ipython3",
   "version": "3.9.2"
  }
 },
 "nbformat": 4,
 "nbformat_minor": 5
}
