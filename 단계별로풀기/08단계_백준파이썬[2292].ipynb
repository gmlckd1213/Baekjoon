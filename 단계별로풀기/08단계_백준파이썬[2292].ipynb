{
 "cells": [
  {
   "cell_type": "code",
   "execution_count": 1,
   "id": "structural-journey",
   "metadata": {},
   "outputs": [
    {
     "name": "stdout",
     "output_type": "stream",
     "text": [
      "13\n",
      "3\n"
     ]
    }
   ],
   "source": [
    "#1 2~7 8~19 20~37 38~61\n",
    "# 1 6 12 18 24\n",
    "\n",
    "n=int(input())\n",
    "line=1\n",
    "n_num=1\n",
    "\n",
    "if n==1:\n",
    "    print(1)\n",
    "else :\n",
    "    while True:\n",
    "        if n<=n_num:\n",
    "            print(line)\n",
    "            break\n",
    "        n_num += (6*line)\n",
    "        line+=1\n",
    "        \n",
    "        "
   ]
  },
  {
   "cell_type": "code",
   "execution_count": 1,
   "id": "prepared-bronze",
   "metadata": {},
   "outputs": [
    {
     "name": "stdout",
     "output_type": "stream",
     "text": [
      "13\n",
      "3\n"
     ]
    }
   ],
   "source": [
    "n=int(input())\n",
    "line=1\n",
    "n_num=1\n",
    "\n",
    "if n==1:\n",
    "    print(1)\n",
    "else:\n",
    "    while True:\n",
    "        if n<=n_num:\n",
    "            print(line)\n",
    "            break\n",
    "        n_num += 6*line\n",
    "        line +=1"
   ]
  },
  {
   "cell_type": "code",
   "execution_count": null,
   "id": "starting-residence",
   "metadata": {},
   "outputs": [],
   "source": []
  }
 ],
 "metadata": {
  "kernelspec": {
   "display_name": "Python 3",
   "language": "python",
   "name": "python3"
  },
  "language_info": {
   "codemirror_mode": {
    "name": "ipython",
    "version": 3
   },
   "file_extension": ".py",
   "mimetype": "text/x-python",
   "name": "python",
   "nbconvert_exporter": "python",
   "pygments_lexer": "ipython3",
   "version": "3.9.2"
  }
 },
 "nbformat": 4,
 "nbformat_minor": 5
}
