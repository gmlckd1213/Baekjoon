{
 "cells": [
  {
   "cell_type": "code",
   "execution_count": 9,
   "id": "transparent-payroll",
   "metadata": {},
   "outputs": [
    {
     "name": "stdout",
     "output_type": "stream",
     "text": [
      "3\n",
      "happy\n",
      "abbcbd\n",
      "abbccd\n",
      "2\n"
     ]
    }
   ],
   "source": [
    "n=int(input())\n",
    "c=0\n",
    "\n",
    "for i in range(n):\n",
    "    a=input()\n",
    "    \n",
    "    if list(a) ==sorted(a,key=a.find):\n",
    "                             \n",
    "        c=c+1\n",
    "print(c)\n",
    "    "
   ]
  },
  {
   "cell_type": "code",
   "execution_count": 2,
   "id": "irish-sessions",
   "metadata": {},
   "outputs": [],
   "source": [
    "a=\"happy\""
   ]
  },
  {
   "cell_type": "code",
   "execution_count": 5,
   "id": "floppy-borough",
   "metadata": {},
   "outputs": [
    {
     "name": "stdout",
     "output_type": "stream",
     "text": [
      "['h', 'a', 'p', 'p', 'y']\n"
     ]
    }
   ],
   "source": [
    "print(sorted(a,key=a.find))"
   ]
  },
  {
   "cell_type": "code",
   "execution_count": 7,
   "id": "civic-relay",
   "metadata": {},
   "outputs": [
    {
     "data": {
      "text/plain": [
       "[1, 3, 4]"
      ]
     },
     "execution_count": 7,
     "metadata": {},
     "output_type": "execute_result"
    }
   ],
   "source": []
  },
  {
   "cell_type": "code",
   "execution_count": null,
   "id": "successful-physiology",
   "metadata": {},
   "outputs": [],
   "source": []
  }
 ],
 "metadata": {
  "kernelspec": {
   "display_name": "Python 3",
   "language": "python",
   "name": "python3"
  },
  "language_info": {
   "codemirror_mode": {
    "name": "ipython",
    "version": 3
   },
   "file_extension": ".py",
   "mimetype": "text/x-python",
   "name": "python",
   "nbconvert_exporter": "python",
   "pygments_lexer": "ipython3",
   "version": "3.9.2"
  }
 },
 "nbformat": 4,
 "nbformat_minor": 5
}
