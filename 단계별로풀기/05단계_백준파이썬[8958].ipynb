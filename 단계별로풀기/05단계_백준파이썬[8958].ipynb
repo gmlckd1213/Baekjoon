{
 "cells": [
  {
   "cell_type": "code",
   "execution_count": 3,
   "id": "natural-importance",
   "metadata": {},
   "outputs": [
    {
     "name": "stdout",
     "output_type": "stream",
     "text": [
      "5\n",
      "ooxxoxxooo\n",
      "10\n",
      "ooxxooxxoo\n",
      "9\n",
      "oxoxoxoxoxoxox\n",
      "7\n",
      "oooooooooo\n",
      "55\n",
      "ooox\n",
      "6\n"
     ]
    }
   ],
   "source": [
    "n=int(input())\n",
    "for i in range(n):\n",
    "    a=input()\n",
    "    count=0\n",
    "    asum=0\n",
    "    for t in a:\n",
    "        if t == \"O\":\n",
    "            count += 1\n",
    "            asum += count\n",
    "        else:\n",
    "            count=0\n",
    "    print(asum)"
   ]
  },
  {
   "cell_type": "code",
   "execution_count": 2,
   "id": "proved-citizen",
   "metadata": {},
   "outputs": [
    {
     "data": {
      "text/plain": [
       "['ooxooxoox']"
      ]
     },
     "execution_count": 2,
     "metadata": {},
     "output_type": "execute_result"
    }
   ],
   "source": [
    "a"
   ]
  },
  {
   "cell_type": "code",
   "execution_count": 3,
   "id": "presidential-anger",
   "metadata": {},
   "outputs": [
    {
     "name": "stdout",
     "output_type": "stream",
     "text": [
      "oxox\n",
      "oxox\n"
     ]
    }
   ],
   "source": [
    "a=list(input().split())\n",
    "for t in a:\n",
    "    print(t)"
   ]
  },
  {
   "cell_type": "code",
   "execution_count": 4,
   "id": "sapphire-enclosure",
   "metadata": {},
   "outputs": [
    {
     "data": {
      "text/plain": [
       "['2', '3', '21']"
      ]
     },
     "execution_count": 4,
     "metadata": {},
     "output_type": "execute_result"
    }
   ],
   "source": [
    "a"
   ]
  },
  {
   "cell_type": "code",
   "execution_count": null,
   "id": "turkish-richardson",
   "metadata": {},
   "outputs": [],
   "source": []
  }
 ],
 "metadata": {
  "kernelspec": {
   "display_name": "Python 3",
   "language": "python",
   "name": "python3"
  },
  "language_info": {
   "codemirror_mode": {
    "name": "ipython",
    "version": 3
   },
   "file_extension": ".py",
   "mimetype": "text/x-python",
   "name": "python",
   "nbconvert_exporter": "python",
   "pygments_lexer": "ipython3",
   "version": "3.9.2"
  }
 },
 "nbformat": 4,
 "nbformat_minor": 5
}
