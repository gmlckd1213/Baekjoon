{
 "cells": [
  {
   "cell_type": "code",
   "execution_count": null,
   "id": "generous-beads",
   "metadata": {},
   "outputs": [],
   "source": [
    "a=int(input())\n",
    "b=int(input())\n",
    "t=[]\n",
    "t_sum=0\n",
    "for i in range(a,b+1):\n",
    "    sosu=0\n",
    "    if i>1:\n",
    "        for j in range(2,i):\n",
    "            if i%j==0:\n",
    "                sosu+=1\n",
    "                break\n",
    "        if sosu==0:\n",
    "            t.append(i)\n",
    "if len(t)>0:\n",
    "        print(sum(t))\n",
    "        print(t[0])\n",
    "else:\n",
    "    print(-1)\n",
    "#시간초과문제로 빠꾸 왜틀렷는지 모르겠음.."
   ]
  },
  {
   "cell_type": "code",
   "execution_count": 20,
   "id": "photographic-victim",
   "metadata": {},
   "outputs": [
    {
     "data": {
      "text/plain": [
       "6"
      ]
     },
     "execution_count": 20,
     "metadata": {},
     "output_type": "execute_result"
    }
   ],
   "source": []
  },
  {
   "cell_type": "code",
   "execution_count": null,
   "id": "informational-margin",
   "metadata": {},
   "outputs": [],
   "source": []
  }
 ],
 "metadata": {
  "kernelspec": {
   "display_name": "Python 3",
   "language": "python",
   "name": "python3"
  },
  "language_info": {
   "codemirror_mode": {
    "name": "ipython",
    "version": 3
   },
   "file_extension": ".py",
   "mimetype": "text/x-python",
   "name": "python",
   "nbconvert_exporter": "python",
   "pygments_lexer": "ipython3",
   "version": "3.9.2"
  }
 },
 "nbformat": 4,
 "nbformat_minor": 5
}
