{
 "cells": [
  {
   "cell_type": "code",
   "execution_count": 2,
   "id": "parental-making",
   "metadata": {},
   "outputs": [
    {
     "name": "stdout",
     "output_type": "stream",
     "text": [
      "13\n",
      "3/3\n"
     ]
    }
   ],
   "source": [
    "n=int(input())\n",
    "line=1\n",
    "\n",
    "while(n>line):\n",
    "    n-=line\n",
    "    line+=1\n",
    "if line%2==0:\n",
    "    a=n\n",
    "    b=line-n+1\n",
    "else:\n",
    "    a=line-n+1\n",
    "    b=n\n",
    "print(a,\"/\",b,sep=\"\")\n",
    "            "
   ]
  },
  {
   "cell_type": "code",
   "execution_count": 51,
   "id": "attached-grass",
   "metadata": {},
   "outputs": [
    {
     "ename": "SyntaxError",
     "evalue": "invalid syntax (<ipython-input-51-4b11671ae542>, line 1)",
     "output_type": "error",
     "traceback": [
      "\u001b[0;36m  File \u001b[0;32m\"<ipython-input-51-4b11671ae542>\"\u001b[0;36m, line \u001b[0;32m1\u001b[0m\n\u001b[0;31m    1 2 4 7 11\u001b[0m\n\u001b[0m      ^\u001b[0m\n\u001b[0;31mSyntaxError\u001b[0m\u001b[0;31m:\u001b[0m invalid syntax\n"
     ]
    }
   ],
   "source": [
    "1 2 4 7 11"
   ]
  },
  {
   "cell_type": "code",
   "execution_count": null,
   "id": "smoking-validation",
   "metadata": {},
   "outputs": [],
   "source": []
  }
 ],
 "metadata": {
  "kernelspec": {
   "display_name": "Python 3",
   "language": "python",
   "name": "python3"
  },
  "language_info": {
   "codemirror_mode": {
    "name": "ipython",
    "version": 3
   },
   "file_extension": ".py",
   "mimetype": "text/x-python",
   "name": "python",
   "nbconvert_exporter": "python",
   "pygments_lexer": "ipython3",
   "version": "3.9.2"
  }
 },
 "nbformat": 4,
 "nbformat_minor": 5
}
